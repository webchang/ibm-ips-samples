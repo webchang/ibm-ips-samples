{
 "cells": [
  {
   "cell_type": "markdown",
   "metadata": {
    "collapsed": true
   },
   "source": [
    "# IPS API Invocation Demos Using the Corpus 'demo'\n",
    "* \"IBM PAIRS Services (IPS): REST API Specification and Developer Guide\" is available for dowonload at https://pairs.mybluemix.net/doc/IBM-PAIRS-Services-v1.pdf\n",
    "* IBM Marketplace entry of the IPS: https://www.ibm.com/us-en/marketplace/geospatial-big-data-analytics \n",
    "* IBM developerWorks API Explorer entry of the IPS: https://developer.ibm.com/api/view/pairs-prod:pairs-api \n",
    "* Public GitHub Repository of IPS client samples: https://github.com/webchang/ibm-ips-samples\n",
    "* Please open GitHub issues to provide technical feedback.\n",
    "* Last modification date of the file: 2017-11-27"
   ]
  },
  {
   "cell_type": "code",
   "execution_count": 19,
   "metadata": {
    "collapsed": true
   },
   "outputs": [],
   "source": [
    "import requests\n",
    "import json\n",
    "import os\n",
    "from time import sleep"
   ]
  },
  {
   "cell_type": "markdown",
   "metadata": {},
   "source": [
    "## Set IBMid and API key credentials\n",
    "* Please see \"IBM PAIRS Services: REST API Specification and Developer Guide\" for instructions on getting & managing IBMids and IPS API keys.\n",
    "* The IBMid and API key used in the demo could be used to access only the \"demo\" corpus, which includes only one NOAA based dataset.\n",
    "* All registered users have access to the \"basic\" corpus by default.\n",
    "* Please email \"pairs@us.ibm.com\" for enterprise-specific and/or subscription-specific inquiries (e.g., change requests regarding dataset usage policy).\n"
   ]
  },
  {
   "cell_type": "code",
   "execution_count": 20,
   "metadata": {
    "collapsed": true
   },
   "outputs": [],
   "source": [
    "myIbmId = 'ips.app@outlook.com'\n",
    "myIbmIdPassword = 'ips.app1'\n",
    "myClientId = '5c20d153-09ad-40e3-9387-124cd132bc42'\n",
    "myClientSecret = 'R8qP7dF2kH4fH4iH3lH2iJ7uD3yI2fQ5oY0cH8pE2kY3eN0cJ8'"
   ]
  },
  {
   "cell_type": "markdown",
   "metadata": {},
   "source": [
    "## Set the base URL and common HTTP headers for invoking IPS APIs"
   ]
  },
  {
   "cell_type": "code",
   "execution_count": 21,
   "metadata": {
    "collapsed": true
   },
   "outputs": [],
   "source": [
    "apiBase = 'https://' + myIbmId + ':' + myIbmIdPassword + '@api.ibm.com/pairs/run/v1/'\n",
    "apiHeaders = {\n",
    "    'Content-Type': 'application/json', # Required for POST and PUT operations\n",
    "    'x-ibm-client-id': myClientId,\n",
    "    'x-ibm-client-secret': myClientSecret\n",
    "}"
   ]
  },
  {
   "cell_type": "markdown",
   "metadata": {},
   "source": [
    "## [GET  /noop]: Do nothing\n",
    "* The \"noop\" operation is useful for checking API invocation credentials, gathering performance measures, monitoring API service availability, etc."
   ]
  },
  {
   "cell_type": "code",
   "execution_count": 22,
   "metadata": {
    "collapsed": true
   },
   "outputs": [],
   "source": [
    "apiName = 'noop'"
   ]
  },
  {
   "cell_type": "code",
   "execution_count": 23,
   "metadata": {},
   "outputs": [
    {
     "name": "stdout",
     "output_type": "stream",
     "text": [
      "HTTP status code: 204\n"
     ]
    }
   ],
   "source": [
    "response = requests.get((apiBase + apiName), headers=apiHeaders)\n",
    "print('HTTP status code: ' + str(response.status_code))\n",
    "if (response.status_code != 204):\n",
    "    print(response.json())"
   ]
  },
  {
   "cell_type": "markdown",
   "metadata": {},
   "source": [
    "## [GET  /settings]: List settings\n",
    "* The response includes the subscription id in use, the subscription's dataset usage policy,  subscriber management URL, and API key management URL."
   ]
  },
  {
   "cell_type": "code",
   "execution_count": 24,
   "metadata": {
    "collapsed": true
   },
   "outputs": [],
   "source": [
    "apiName = 'settings'"
   ]
  },
  {
   "cell_type": "code",
   "execution_count": 25,
   "metadata": {},
   "outputs": [
    {
     "name": "stdout",
     "output_type": "stream",
     "text": [
      "HTTP status code: 200\n",
      "{\n",
      "  \"setting\": {\n",
      "    \"subscriptionId\": {\n",
      "      \"info\": \"[readonly] Subscription id of the API key in use, whcih can be found via IBM API Explorer at https://developer.ibm.com/api/view/pairs-prod:pairs-api#security and managed via the portal of IBM Products and services at https://myibm.ibm.com/products-services/manage\", \n",
      "      \"value\": \"502498187\"\n",
      "    }, \n",
      "    \"contactId\": {\n",
      "      \"info\": \"[readonly] IBMid of the subscription contact\", \n",
      "      \"value\": \"ips.demo@outlook.com\"\n",
      "    }, \n",
      "    \"clientId\": {\n",
      "      \"info\": \"[readonly] Client id of the API key in use, which can be managed via IBM API Explorer at https://developer.ibm.com/api/view/pairs-prod:pairs-api#security\", \n",
      "      \"value\": \"5c20d153-09ad-40e3-9387-124cd132bc42\"\n",
      "    }, \n",
      "    \"requesterId\": {\n",
      "      \"info\": \"[readonly] IBMid in use\", \n",
      "      \"value\": \"ips.app@outlook.com\"\n",
      "    }, \n",
      "    \"datasetPolicy\": {\n",
      "      \"info\": \"[readonly] Dataset usage policy (filter/read/write) per the corpus and customer policies\", \n",
      "      \"value\": [\n",
      "        {\n",
      "          \"usage\": \"read\", \n",
      "          \"id\": \"25\", \n",
      "          \"name\": \"SMT (Long term forecast)\"\n",
      "        }\n",
      "      ]\n",
      "    }\n",
      "  }\n",
      "}\n"
     ]
    }
   ],
   "source": [
    "response = requests.get((apiBase + apiName), headers=apiHeaders)\n",
    "print('HTTP status code: ' + str(response.status_code))\n",
    "print(json.dumps(response.json(), indent=2))"
   ]
  },
  {
   "cell_type": "markdown",
   "metadata": {},
   "source": [
    "## [GET  subscriptions]: List subscriptions\n",
    "* The subscription id in use is determined per the IBMid and the API key in use.\n",
    "* This operation lists all of the subscriptions that the IBMid in use is a subscriber.\n",
    "* For each subscription, this operation lists the client id of each of the shared API keys. \n",
    "* IBMid of the subscription Contact (or owner) is included in the response."
   ]
  },
  {
   "cell_type": "code",
   "execution_count": 26,
   "metadata": {
    "collapsed": true
   },
   "outputs": [],
   "source": [
    "apiName = 'subscriptions'"
   ]
  },
  {
   "cell_type": "code",
   "execution_count": 27,
   "metadata": {},
   "outputs": [
    {
     "name": "stdout",
     "output_type": "stream",
     "text": [
      "HTTP status code: 200\n",
      "{\n",
      "  \"subscription\": [\n",
      "    {\n",
      "      \"clientIds\": [\n",
      "        \"5c20d153-09ad-40e3-9387-124cd132bc42\"\n",
      "      ], \n",
      "      \"contactId\": \"ips.demo@outlook.com\", \n",
      "      \"id\": \"502498187\", \n",
      "      \"name\": \"IBM PAIRS Services Free\"\n",
      "    }\n",
      "  ]\n",
      "}\n"
     ]
    }
   ],
   "source": [
    "response = requests.get((apiBase + apiName), headers=apiHeaders)\n",
    "print('HTTP status code: ' + str(response.status_code))\n",
    "print(json.dumps(response.json(), indent=2))"
   ]
  },
  {
   "cell_type": "markdown",
   "metadata": {},
   "source": [
    "## [GET  /datasets]: List datasets"
   ]
  },
  {
   "cell_type": "code",
   "execution_count": 28,
   "metadata": {
    "collapsed": true
   },
   "outputs": [],
   "source": [
    "apiName = 'datasets'"
   ]
  },
  {
   "cell_type": "code",
   "execution_count": 29,
   "metadata": {},
   "outputs": [
    {
     "name": "stdout",
     "output_type": "stream",
     "text": [
      "HTTP status code: 200\n",
      "{\n",
      "  \"dataset\": [\n",
      "    {\n",
      "      \"category\": \"Weather\", \n",
      "      \"id\": \"25\", \n",
      "      \"name\": \"SMT (Long term forecast)\"\n",
      "    }\n",
      "  ]\n",
      "}\n"
     ]
    }
   ],
   "source": [
    "response = requests.get((apiBase + apiName), headers=apiHeaders)\n",
    "print('HTTP status code: ' + str(response.status_code))\n",
    "print(json.dumps(response.json(), indent=2))"
   ]
  },
  {
   "cell_type": "markdown",
   "metadata": {},
   "source": [
    "## [GET  datalayers]: List datalayers"
   ]
  },
  {
   "cell_type": "code",
   "execution_count": 30,
   "metadata": {
    "collapsed": true
   },
   "outputs": [],
   "source": [
    "apiName = 'datalayers'"
   ]
  },
  {
   "cell_type": "code",
   "execution_count": 31,
   "metadata": {},
   "outputs": [
    {
     "name": "stdout",
     "output_type": "stream",
     "text": [
      "HTTP status code: 200\n",
      "{\n",
      "  \"datalayer\": [\n",
      "    {\n",
      "      \"name\": \"Ground temperature\", \n",
      "      \"parent\": \"25\", \n",
      "      \"interval\": [\n",
      "        \"2016-01-01T12:00:01.000Z\", \n",
      "        \"2018-05-27T06:00:01.000Z\"\n",
      "      ], \n",
      "      \"mapArea\": {\n",
      "        \"longne\": \"180\", \n",
      "        \"latsw\": \"-90\", \n",
      "        \"latne\": \"90\", \n",
      "        \"longsw\": \"-180\"\n",
      "      }, \n",
      "      \"resolution\": \"11\", \n",
      "      \"id\": \"25001\"\n",
      "    }, \n",
      "    {\n",
      "      \"name\": \"Solar irradiance\", \n",
      "      \"parent\": \"25\", \n",
      "      \"interval\": [\n",
      "        \"2016-01-01T12:00:01.000Z\", \n",
      "        \"2018-05-27T06:00:01.000Z\"\n",
      "      ], \n",
      "      \"mapArea\": {\n",
      "        \"longne\": \"180\", \n",
      "        \"latsw\": \"-90\", \n",
      "        \"latne\": \"90\", \n",
      "        \"longsw\": \"-180\"\n",
      "      }, \n",
      "      \"resolution\": \"11\", \n",
      "      \"id\": \"25002\"\n",
      "    }, \n",
      "    {\n",
      "      \"name\": \"Wind toward east\", \n",
      "      \"parent\": \"25\", \n",
      "      \"interval\": [\n",
      "        \"2016-01-01T12:00:01.000Z\", \n",
      "        \"2018-05-27T06:00:01.000Z\"\n",
      "      ], \n",
      "      \"mapArea\": {\n",
      "        \"longne\": \"180\", \n",
      "        \"latsw\": \"-90\", \n",
      "        \"latne\": \"90\", \n",
      "        \"longsw\": \"-180\"\n",
      "      }, \n",
      "      \"resolution\": \"11\", \n",
      "      \"id\": \"25003\"\n",
      "    }, \n",
      "    {\n",
      "      \"name\": \"Wind toward north\", \n",
      "      \"parent\": \"25\", \n",
      "      \"interval\": [\n",
      "        \"2016-01-01T12:00:01.000Z\", \n",
      "        \"2018-05-27T06:00:01.000Z\"\n",
      "      ], \n",
      "      \"mapArea\": {\n",
      "        \"longne\": \"180\", \n",
      "        \"latsw\": \"-90\", \n",
      "        \"latne\": \"90\", \n",
      "        \"longsw\": \"-180\"\n",
      "      }, \n",
      "      \"resolution\": \"11\", \n",
      "      \"id\": \"25004\"\n",
      "    }, \n",
      "    {\n",
      "      \"name\": \"Categorical rain\", \n",
      "      \"parent\": \"25\", \n",
      "      \"interval\": [\n",
      "        \"2016-01-01T12:00:01.000Z\", \n",
      "        \"2018-05-27T06:00:01.000Z\"\n",
      "      ], \n",
      "      \"mapArea\": {\n",
      "        \"longne\": \"180\", \n",
      "        \"latsw\": \"-90\", \n",
      "        \"latne\": \"90\", \n",
      "        \"longsw\": \"-180\"\n",
      "      }, \n",
      "      \"resolution\": \"11\", \n",
      "      \"id\": \"25005\"\n",
      "    }, \n",
      "    {\n",
      "      \"name\": \"Precipitation rate\", \n",
      "      \"parent\": \"25\", \n",
      "      \"interval\": [\n",
      "        \"2016-01-01T06:00:01.000Z\", \n",
      "        \"2018-05-27T06:00:01.000Z\"\n",
      "      ], \n",
      "      \"mapArea\": {\n",
      "        \"longne\": \"180\", \n",
      "        \"latsw\": \"-90\", \n",
      "        \"latne\": \"90\", \n",
      "        \"longsw\": \"-180\"\n",
      "      }, \n",
      "      \"resolution\": \"11\", \n",
      "      \"id\": \"25006\"\n",
      "    }, \n",
      "    {\n",
      "      \"name\": \"Precipitable water\", \n",
      "      \"parent\": \"25\", \n",
      "      \"interval\": [\n",
      "        \"2016-01-01T06:00:01.000Z\", \n",
      "        \"2018-05-27T06:00:01.000Z\"\n",
      "      ], \n",
      "      \"mapArea\": {\n",
      "        \"longne\": \"180\", \n",
      "        \"latsw\": \"-90\", \n",
      "        \"latne\": \"90\", \n",
      "        \"longsw\": \"-180\"\n",
      "      }, \n",
      "      \"resolution\": \"11\", \n",
      "      \"id\": \"25007\"\n",
      "    }\n",
      "  ]\n",
      "}\n"
     ]
    }
   ],
   "source": [
    "response = requests.get((apiBase + apiName), headers=apiHeaders)\n",
    "print('HTTP status code: ' + str(response.status_code))\n",
    "print(json.dumps(response.json(), indent=2))"
   ]
  },
  {
   "cell_type": "markdown",
   "metadata": {},
   "source": [
    "## [POST  queries]: Submit a \"point\" query"
   ]
  },
  {
   "cell_type": "code",
   "execution_count": 32,
   "metadata": {
    "collapsed": true
   },
   "outputs": [],
   "source": [
    "apiName = 'queries'\n",
    "apiBody = {\n",
    "    \"name\": \"point query\",\n",
    "    \"spatial\" : {\n",
    "        \"type\" : \"point\",\n",
    "        \"point\" : [{\"lat\" : \"41.208912\", \"long\" : \"-73.804661\"}]  # Yorktown, NY, USA\n",
    "    },\n",
    "    \"datalayer\" : [\n",
    "        {\"id\" : \"25001\",\n",
    "         \"temporal\": [[\"2016-02-01\"]]\n",
    "        }\n",
    "    ]\n",
    "}"
   ]
  },
  {
   "cell_type": "code",
   "execution_count": 33,
   "metadata": {},
   "outputs": [
    {
     "name": "stdout",
     "output_type": "stream",
     "text": [
      "HTTP status code: 201\n",
      "{\n",
      "  \"query\": [\n",
      "    {\n",
      "      \"name\": \"point query\", \n",
      "      \"request\": {\n",
      "        \"datalayer\": [\n",
      "          {\n",
      "            \"temporal\": [\n",
      "              [\n",
      "                \"2016-02-01\"\n",
      "              ]\n",
      "            ], \n",
      "            \"id\": \"25001\"\n",
      "          }\n",
      "        ], \n",
      "        \"spatial\": {\n",
      "          \"type\": \"point\", \n",
      "          \"point\": [\n",
      "            {\n",
      "              \"lat\": \"41.208912\", \n",
      "              \"long\": \"-73.804661\"\n",
      "            }\n",
      "          ]\n",
      "        }\n",
      "      }, \n",
      "      \"job\": {\n",
      "        \"status\": \"202\", \n",
      "        \"message\": \"Accepted\", \n",
      "        \"creation\": \"2017-11-27T20:57:52.361Z\", \n",
      "        \"done\": false, \n",
      "        \"id\": \"39daa6d95048ce0e2218490489aa6f60\"\n",
      "      }, \n",
      "      \"requester\": \"ips.app@outlook.com\", \n",
      "      \"subscriptionId\": \"502498187\", \n",
      "      \"id\": \"ef6f8f7f7b448029c21bb0758c5af380\"\n",
      "    }\n",
      "  ]\n",
      "}\n"
     ]
    }
   ],
   "source": [
    "queryResponse = requests.post((apiBase + apiName), headers=apiHeaders, data=json.dumps(apiBody))\n",
    "print('HTTP status code: ' + str(queryResponse.status_code))\n",
    "print(json.dumps(queryResponse.json(), indent=2))"
   ]
  },
  {
   "cell_type": "markdown",
   "metadata": {},
   "source": [
    "## [GET  /jobs/{id}]: List a specific job"
   ]
  },
  {
   "cell_type": "code",
   "execution_count": 34,
   "metadata": {},
   "outputs": [
    {
     "name": "stdout",
     "output_type": "stream",
     "text": [
      "{\n",
      "  \"job\": [\n",
      "    {\n",
      "      \"status\": \"201\", \n",
      "      \"name\": \"point query\", \n",
      "      \"creation\": \"2017-11-27T20:57:52.361Z\", \n",
      "      \"request\": {\n",
      "        \"query\": {\n",
      "          \"datalayer\": [\n",
      "            {\n",
      "              \"temporal\": [\n",
      "                [\n",
      "                  \"2016-02-01\"\n",
      "                ]\n",
      "              ], \n",
      "              \"id\": \"25001\"\n",
      "            }\n",
      "          ], \n",
      "          \"spatial\": {\n",
      "            \"type\": \"point\", \n",
      "            \"point\": [\n",
      "              {\n",
      "                \"lat\": \"41.208912\", \n",
      "                \"long\": \"-73.804661\"\n",
      "              }\n",
      "            ]\n",
      "          }\n",
      "        }\n",
      "      }, \n",
      "      \"source\": {\n",
      "        \"member\": \"ef6f8f7f7b448029c21bb0758c5af380\", \n",
      "        \"collection\": \"queries\"\n",
      "      }, \n",
      "      \"done\": true, \n",
      "      \"requester\": \"ips.app@outlook.com\", \n",
      "      \"message\": \"{\\\"httpCode\\\":\\\"201\\\",\\\"httpMessage\\\":\\\"Created\\\"}\", \n",
      "      \"id\": \"39daa6d95048ce0e2218490489aa6f60\"\n",
      "    }\n",
      "  ]\n",
      "}\n"
     ]
    }
   ],
   "source": [
    "jobId = queryResponse.json()['query'][0]['job']['id']\n",
    "apiName = 'jobs' + '/' + jobId\n",
    "jobResponse = requests.get((apiBase + apiName), headers=apiHeaders)\n",
    "print(json.dumps(jobResponse.json(), indent=2))"
   ]
  },
  {
   "cell_type": "markdown",
   "metadata": {},
   "source": [
    "## [GET  /queries/{id}?done=true]: List a specific query when that is done, followed by getting the query result "
   ]
  },
  {
   "cell_type": "code",
   "execution_count": 35,
   "metadata": {},
   "outputs": [
    {
     "name": "stdout",
     "output_type": "stream",
     "text": [
      "{\"httpCode\":\"201\",\"httpMessage\":\"Created\"}\n",
      "{\n",
      "  \"query\": [\n",
      "    {\n",
      "      \"name\": \"point query\", \n",
      "      \"request\": {\n",
      "        \"datalayer\": [\n",
      "          {\n",
      "            \"temporal\": [\n",
      "              [\n",
      "                \"2016-02-01\"\n",
      "              ]\n",
      "            ], \n",
      "            \"id\": \"25001\"\n",
      "          }\n",
      "        ], \n",
      "        \"spatial\": {\n",
      "          \"type\": \"point\", \n",
      "          \"point\": [\n",
      "            {\n",
      "              \"lat\": \"41.208912\", \n",
      "              \"long\": \"-73.804661\"\n",
      "            }\n",
      "          ]\n",
      "        }\n",
      "      }, \n",
      "      \"job\": {\n",
      "        \"status\": \"201\", \n",
      "        \"message\": \"{\\\"httpCode\\\":\\\"201\\\",\\\"httpMessage\\\":\\\"Created\\\"}\", \n",
      "        \"creation\": \"2017-11-27T20:57:52.361Z\", \n",
      "        \"done\": true, \n",
      "        \"id\": \"39daa6d95048ce0e2218490489aa6f60\"\n",
      "      }, \n",
      "      \"result\": {\n",
      "        \"objref\": [\n",
      "          {\n",
      "            \"geturl\": \"https://dal05.objectstorage.softlayer.net/v1/AUTH_93a7fbfa-cada-450e-ac49-98cc55680548/tempobjs/3fb350d1e9a97a319213536cb8e49c93?temp_url_sig=8a362f2135733abb316d852058dbc58d520d530a&temp_url_expires=1512421076\", \n",
      "            \"mime\": \"application/json\", \n",
      "            \"name\": \"tempobj id: 3fb350d1e9a97a319213536cb8e49c93\"\n",
      "          }\n",
      "        ], \n",
      "        \"expiration\": \"2017-12-04T20:57:56.000Z\"\n",
      "      }, \n",
      "      \"requester\": \"ips.app@outlook.com\", \n",
      "      \"id\": \"ef6f8f7f7b448029c21bb0758c5af380\"\n",
      "    }\n",
      "  ]\n",
      "}\n"
     ]
    }
   ],
   "source": [
    "queryId = queryResponse.json()['query'][0]['id']\n",
    "apiName = 'queries' + '/' + queryId + \"?done=true\"\n",
    "response = requests.get((apiBase + apiName), headers=apiHeaders)\n",
    "while response.status_code == 204:\n",
    "    sleep(5)\n",
    "    response = requests.get((apiBase + apiName), headers=apiHeaders)\n",
    "print(response.json()['query'][0]['job']['message'])\n",
    "print(json.dumps(response.json(), indent=2))"
   ]
  },
  {
   "cell_type": "code",
   "execution_count": 36,
   "metadata": {},
   "outputs": [
    {
     "name": "stdout",
     "output_type": "stream",
     "text": [
      "{\"data\":[{\"dataset\":{\"id\":25,\"name\":\"SMT (Long term forecast)\"},\"datalayer\":{\"id\":25001,\"name\":\"Ground temperature\",\"unitsbl\":\"K\"},\"lat\":41.20891189575195,\"lon\":-73.8046646118164,\"timestamp\":1454284800000,\"value\":273.49884033203125,\"group\":null}],\"pointData\":null}\n"
     ]
    }
   ],
   "source": [
    "if response.json()['query'][0]['job']['status'] == '201':\n",
    "    downloadUrl = response.json()['query'][0]['result']['objref'][0]['geturl']\n",
    "    result = requests.get(downloadUrl)\n",
    "    print(result.content)"
   ]
  },
  {
   "cell_type": "markdown",
   "metadata": {},
   "source": [
    "## [DELETE  /queries/{id}]: Delete a specific query"
   ]
  },
  {
   "cell_type": "code",
   "execution_count": 37,
   "metadata": {},
   "outputs": [
    {
     "name": "stdout",
     "output_type": "stream",
     "text": [
      "HTTP status code: 204\n"
     ]
    }
   ],
   "source": [
    "apiName = 'queries' + '/' + queryId\n",
    "response = requests.delete((apiBase + apiName), headers=apiHeaders)\n",
    "print('HTTP status code: ' + str(response.status_code))\n",
    "if (response.status_code != 204):\n",
    "    print(response.json())"
   ]
  },
  {
   "cell_type": "markdown",
   "metadata": {},
   "source": [
    "## [POST  /variables]: Create a shared varaible for the subscription in use\n",
    "* Id of the subscription in use is the value of the resevered variable \"_subscriptionId\""
   ]
  },
  {
   "cell_type": "code",
   "execution_count": 38,
   "metadata": {
    "collapsed": true
   },
   "outputs": [],
   "source": [
    "apiName = 'variables'\n",
    "apiBody = [{\"name\": \"project\", \"value\": \"demo\"}]"
   ]
  },
  {
   "cell_type": "code",
   "execution_count": 39,
   "metadata": {},
   "outputs": [
    {
     "name": "stdout",
     "output_type": "stream",
     "text": [
      "HTTP status code: 200\n",
      "{\n",
      "  \"variable\": [\n",
      "    {\n",
      "      \"name\": \"_subscriptionId\", \n",
      "      \"value\": \"502498187\", \n",
      "      \"requester\": \"pairs@us.ibm.com\"\n",
      "    }, \n",
      "    {\n",
      "      \"name\": \"project\", \n",
      "      \"value\": \"demo\", \n",
      "      \"requester\": \"ips.app@outlook.com\"\n",
      "    }\n",
      "  ]\n",
      "}\n"
     ]
    }
   ],
   "source": [
    "response = requests.post((apiBase + apiName), headers=apiHeaders, data=json.dumps(apiBody))\n",
    "print('HTTP status code: ' + str(response.status_code))\n",
    "print(json.dumps(response.json(), indent=2))"
   ]
  },
  {
   "cell_type": "code",
   "execution_count": null,
   "metadata": {
    "collapsed": true
   },
   "outputs": [],
   "source": []
  }
 ],
 "metadata": {
  "kernelspec": {
   "display_name": "Python 2",
   "language": "python",
   "name": "python2"
  },
  "language_info": {
   "codemirror_mode": {
    "name": "ipython",
    "version": 2
   },
   "file_extension": ".py",
   "mimetype": "text/x-python",
   "name": "python",
   "nbconvert_exporter": "python",
   "pygments_lexer": "ipython2",
   "version": "2.7.13"
  }
 },
 "nbformat": 4,
 "nbformat_minor": 2
}
